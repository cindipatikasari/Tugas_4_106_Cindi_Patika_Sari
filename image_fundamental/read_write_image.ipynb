{
  "nbformat": 4,
  "nbformat_minor": 0,
  "metadata": {
    "colab": {
      "name": "read_write_image.ipynb",
      "provenance": [],
      "collapsed_sections": [],
      "include_colab_link": true
    },
    "kernelspec": {
      "name": "python3",
      "display_name": "Python 3"
    },
    "language_info": {
      "name": "python"
    }
  },
  "cells": [
    {
      "cell_type": "markdown",
      "metadata": {
        "id": "view-in-github",
        "colab_type": "text"
      },
      "source": [
        "<a href=\"https://colab.research.google.com/github/cindipatikasari/Tugas_4_106_Cindi_Patika_Sari/blob/main/image_fundamental/read_write_image.ipynb\" target=\"_parent\"><img src=\"https://colab.research.google.com/assets/colab-badge.svg\" alt=\"Open In Colab\"/></a>"
      ]
    },
    {
      "cell_type": "code",
      "metadata": {
        "colab": {
          "base_uri": "https://localhost:8080/"
        },
        "id": "yiWDK-jTwIPy",
        "outputId": "baf19da1-0155-42c7-e012-c21cfef39306"
      },
      "source": [
        "!wget https://raw.githubusercontent.com/Aditya-105/computer_vision/main/images/daun_kemangi/001.jpg --no-check-certificate"
      ],
      "execution_count": 1,
      "outputs": [
        {
          "output_type": "stream",
          "name": "stdout",
          "text": [
            "--2021-11-09 09:30:07--  https://raw.githubusercontent.com/Aditya-105/computer_vision/main/images/daun_kemangi/001.jpg\n",
            "Resolving raw.githubusercontent.com (raw.githubusercontent.com)... 185.199.108.133, 185.199.109.133, 185.199.110.133, ...\n",
            "Connecting to raw.githubusercontent.com (raw.githubusercontent.com)|185.199.108.133|:443... connected.\n",
            "HTTP request sent, awaiting response... 200 OK\n",
            "Length: 1059779 (1.0M) [image/jpeg]\n",
            "Saving to: ‘001.jpg’\n",
            "\n",
            "001.jpg             100%[===================>]   1.01M  --.-KB/s    in 0.05s   \n",
            "\n",
            "2021-11-09 09:30:07 (20.6 MB/s) - ‘001.jpg’ saved [1059779/1059779]\n",
            "\n"
          ]
        }
      ]
    },
    {
      "cell_type": "code",
      "metadata": {
        "id": "oj4cMJQKwSuQ"
      },
      "source": [
        "# import the necessary packages\n",
        "from matplotlib import pyplot as plt\n",
        "import argparse\n",
        "import cv2"
      ],
      "execution_count": 2,
      "outputs": []
    },
    {
      "cell_type": "code",
      "metadata": {
        "id": "Kg-H2DOswU_D"
      },
      "source": [
        "def plt_imshow(title, image):\n",
        "\t# convert the image frame BGR to RGB color space and display it\n",
        "\timage = cv2.cvtColor(image, cv2.COLOR_BGR2RGB)\n",
        "\tplt.imshow(image)\n",
        "\tplt.title(title)\n",
        "\tplt.grid(False)\n",
        "\tplt.show()"
      ],
      "execution_count": 3,
      "outputs": []
    },
    {
      "cell_type": "code",
      "metadata": {
        "id": "9307r85YwVaD"
      },
      "source": [
        "# construct the argument parser and parse the arguments\n",
        "#ap = argparse.ArgumentParser()\n",
        "#ap.add_argument(\"-i\", \"--image\", required=True,\n",
        "#    help=\"path to input image\")\n",
        "#args = vars(ap.parse_args())\n",
        "\n",
        "# since we are using Jupyter Notebooks we can replace our argument\n",
        "# parsing code with *hard coded* arguments and values\n",
        "args = {\n",
        "\t\"image\": \"001.jpg\",\n",
        "}"
      ],
      "execution_count": 4,
      "outputs": []
    },
    {
      "cell_type": "code",
      "metadata": {
        "colab": {
          "base_uri": "https://localhost:8080/"
        },
        "id": "_RoByEGSwZ0Z",
        "outputId": "0ec16f3b-12f5-4656-f3c5-87b872001236"
      },
      "source": [
        "# load the image from disk via \"cv2.imread\" and then grab the spatial\n",
        "# dimensions, including width, height, and number of channels\n",
        "image = cv2.imread(args[\"image\"])\n",
        "(h, w, c) = image.shape[:3]\n",
        "\n",
        "# display the image width, height, and number of channels to our\n",
        "# terminal\n",
        "print(\"width: {} pixels\".format(image.shape[1]))\n",
        "print(\"height: {}  pixels\".format(image.shape[0]))\n",
        "print(\"channels: {}\".format(image.shape[2]))"
      ],
      "execution_count": 5,
      "outputs": [
        {
          "output_type": "stream",
          "name": "stdout",
          "text": [
            "width: 3000 pixels\n",
            "height: 4000  pixels\n",
            "channels: 3\n"
          ]
        }
      ]
    },
    {
      "cell_type": "code",
      "metadata": {
        "colab": {
          "base_uri": "https://localhost:8080/",
          "height": 299
        },
        "id": "hMSDV4KywcIh",
        "outputId": "46266afb-c14a-4ca6-9ca9-d99521a464f3"
      },
      "source": [
        "# show the image and wait for a keypress\n",
        "plt_imshow(\"Image\", image)\n",
        "\n",
        "# save the image back to disk (OpenCV handles converting image\n",
        "# filetypes automatically)\n",
        "cv2.imwrite(\"batik_new.jpg\", image)"
      ],
      "execution_count": 6,
      "outputs": [
        {
          "output_type": "display_data",
          "data": {
            "image/png": "[encoded data removed]",
            "text/plain": [
              "<Figure size 432x288 with 1 Axes>"
            ]
          },
          "metadata": {
            "needs_background": "light"
          }
        },
        {
          "output_type": "execute_result",
          "data": {
            "text/plain": [
              "True"
            ]
          },
          "metadata": {},
          "execution_count": 6
        }
      ]
    }
  ]
}