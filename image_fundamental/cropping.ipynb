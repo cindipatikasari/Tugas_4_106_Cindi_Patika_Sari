{
  "nbformat": 4,
  "nbformat_minor": 0,
  "metadata": {
    "colab": {
      "name": "cropping.ipynb",
      "provenance": [],
      "collapsed_sections": [],
      "include_colab_link": true
    },
    "kernelspec": {
      "name": "python3",
      "display_name": "Python 3"
    },
    "language_info": {
      "name": "python"
    }
  },
  "cells": [
    {
      "cell_type": "markdown",
      "metadata": {
        "id": "view-in-github",
        "colab_type": "text"
      },
      "source": [
        "<a href=\"https://colab.research.google.com/github/cindipatikasari/Tugas_4_106_Cindi_Patika_Sari/blob/main/image_fundamental/cropping.ipynb\" target=\"_parent\"><img src=\"https://colab.research.google.com/assets/colab-badge.svg\" alt=\"Open In Colab\"/></a>"
      ]
    },
    {
      "cell_type": "code",
      "metadata": {
        "id": "1iuRnneTxjBb",
        "outputId": "a7718928-921c-4d08-909f-26a94be7d706",
        "colab": {
          "base_uri": "https://localhost:8080/"
        }
      },
      "source": [
        "!wget https://raw.githubusercontent.com/Aditya-105/computer_vision/main/images/daun_kemangi/001.jpg --no-check-certificate"
      ],
      "execution_count": 1,
      "outputs": [
        {
          "output_type": "stream",
          "name": "stdout",
          "text": [
            "--2021-11-09 09:51:24--  https://raw.githubusercontent.com/Aditya-105/computer_vision/main/images/daun_kemangi/001.jpg\n",
            "Resolving raw.githubusercontent.com (raw.githubusercontent.com)... 185.199.108.133, 185.199.109.133, 185.199.110.133, ...\n",
            "Connecting to raw.githubusercontent.com (raw.githubusercontent.com)|185.199.108.133|:443... connected.\n",
            "HTTP request sent, awaiting response... 200 OK\n",
            "Length: 1059779 (1.0M) [image/jpeg]\n",
            "Saving to: ‘001.jpg’\n",
            "\n",
            "001.jpg             100%[===================>]   1.01M  --.-KB/s    in 0.04s   \n",
            "\n",
            "2021-11-09 09:51:25 (25.4 MB/s) - ‘001.jpg’ saved [1059779/1059779]\n",
            "\n"
          ]
        }
      ]
    },
    {
      "cell_type": "code",
      "metadata": {
        "id": "4Z5UaaURxuMP"
      },
      "source": [
        "# import the necessary packages\n",
        "from matplotlib import pyplot as plt\n",
        "import numpy as np\n",
        "import argparse\n",
        "import cv2"
      ],
      "execution_count": 2,
      "outputs": []
    },
    {
      "cell_type": "code",
      "metadata": {
        "id": "pPgHdzAGxuuK"
      },
      "source": [
        "def plt_imshow(title, image):\n",
        "\t# convert the image frame BGR to RGB color space and display it\n",
        "\timage = cv2.cvtColor(image, cv2.COLOR_BGR2RGB)\n",
        "\tplt.imshow(image)\n",
        "\tplt.title(title)\n",
        "\tplt.grid(False)\n",
        "\tplt.show()"
      ],
      "execution_count": 3,
      "outputs": []
    },
    {
      "cell_type": "code",
      "metadata": {
        "colab": {
          "base_uri": "https://localhost:8080/"
        },
        "id": "OXVqwb2GxwJ7",
        "outputId": "d0482e45-f985-4794-f0cb-ee44e39bf840"
      },
      "source": [
        "I = np.arange(0, 25)\n",
        "I"
      ],
      "execution_count": 4,
      "outputs": [
        {
          "output_type": "execute_result",
          "data": {
            "text/plain": [
              "array([ 0,  1,  2,  3,  4,  5,  6,  7,  8,  9, 10, 11, 12, 13, 14, 15, 16,\n",
              "       17, 18, 19, 20, 21, 22, 23, 24])"
            ]
          },
          "metadata": {},
          "execution_count": 4
        }
      ]
    },
    {
      "cell_type": "code",
      "metadata": {
        "colab": {
          "base_uri": "https://localhost:8080/"
        },
        "id": "L6k_VvI3xyJP",
        "outputId": "a02d1fa7-72c5-4411-b64b-d2aee03a94fe"
      },
      "source": [
        "I = I.reshape((5, 5))\n",
        "I"
      ],
      "execution_count": 5,
      "outputs": [
        {
          "output_type": "execute_result",
          "data": {
            "text/plain": [
              "array([[ 0,  1,  2,  3,  4],\n",
              "       [ 5,  6,  7,  8,  9],\n",
              "       [10, 11, 12, 13, 14],\n",
              "       [15, 16, 17, 18, 19],\n",
              "       [20, 21, 22, 23, 24]])"
            ]
          },
          "metadata": {},
          "execution_count": 5
        }
      ]
    },
    {
      "cell_type": "code",
      "metadata": {
        "colab": {
          "base_uri": "https://localhost:8080/"
        },
        "id": "a1PjCNWZxzYV",
        "outputId": "7b582c0f-75e2-41fe-9392-0ecf71474b42"
      },
      "source": [
        "I[0:3, 0:2]"
      ],
      "execution_count": 6,
      "outputs": [
        {
          "output_type": "execute_result",
          "data": {
            "text/plain": [
              "array([[ 0,  1],\n",
              "       [ 5,  6],\n",
              "       [10, 11]])"
            ]
          },
          "metadata": {},
          "execution_count": 6
        }
      ]
    },
    {
      "cell_type": "code",
      "metadata": {
        "colab": {
          "base_uri": "https://localhost:8080/"
        },
        "id": "JXE1Y3m8x1Fx",
        "outputId": "c4b03daf-1351-453a-96b8-f736252e0e6e"
      },
      "source": [
        "I[3:5, 1:5]"
      ],
      "execution_count": 7,
      "outputs": [
        {
          "output_type": "execute_result",
          "data": {
            "text/plain": [
              "array([[16, 17, 18, 19],\n",
              "       [21, 22, 23, 24]])"
            ]
          },
          "metadata": {},
          "execution_count": 7
        }
      ]
    },
    {
      "cell_type": "code",
      "metadata": {
        "id": "RfXGkv-Ex2jg"
      },
      "source": [
        "# # construct the argument parser and parse the arguments\n",
        "# ap = argparse.ArgumentParser()\n",
        "# ap.add_argument(\"-i\", \"--image\", type=str, default=\"adrian.png\",\n",
        "# \thelp=\"path to the input image\")\n",
        "# args = vars(ap.parse_args())\n",
        "\n",
        "# since we are using Jupyter Notebooks we can replace our argument\n",
        "# parsing code with *hard coded* arguments and values\n",
        "args = {\n",
        "\t\"image\": \"001.jpg\"\n",
        "}"
      ],
      "execution_count": 8,
      "outputs": []
    },
    {
      "cell_type": "code",
      "metadata": {
        "colab": {
          "base_uri": "https://localhost:8080/",
          "height": 545
        },
        "id": "67nsK4lPx4W3",
        "outputId": "20c51664-d5b9-4100-8476-6a01f4b2c1dd"
      },
      "source": [
        "# load the input image and display it to our screen\n",
        "image = cv2.imread(args[\"image\"])\n",
        "plt_imshow(\"Original\", image)\n",
        "\n",
        "# cropping an image with OpenCV is accomplished via simple NumPy\n",
        "# array slices in startY:endY, startX:endX order -- here we are\n",
        "# cropping the monitor from the image (these coordinates were\n",
        "# determined using photo editing software such as Photoshop,\n",
        "# GIMP, Paint, etc.)\n",
        "# Dimension lab.jpeg = 720x1600\n",
        "lab = image[500:3500, 750:2000]\n",
        "plt_imshow(\"lab\", lab)"
      ],
      "execution_count": 12,
      "outputs": [
        {
          "output_type": "display_data",
          "data": {
            "image/png": "[encoded data removed]",
            "text/plain": [
              "<Figure size 432x288 with 1 Axes>"
            ]
          },
          "metadata": {
            "needs_background": "light"
          }
        },
        {
          "output_type": "display_data",
          "data": {
            "image/png": "[encoded data removed]",
            "text/plain": [
              "<Figure size 432x288 with 1 Axes>"
            ]
          },
          "metadata": {
            "needs_background": "light"
          }
        }
      ]
    }
  ]
}